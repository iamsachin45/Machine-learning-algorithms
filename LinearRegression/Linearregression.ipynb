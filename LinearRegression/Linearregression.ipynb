{
 "cells": [
  {
   "cell_type": "code",
   "execution_count": 1,
   "metadata": {},
   "outputs": [
    {
     "ename": "SyntaxError",
     "evalue": "invalid syntax (<ipython-input-1-da4c2b4296f8>, line 2)",
     "output_type": "error",
     "traceback": [
      "\u001b[1;36m  File \u001b[1;32m\"<ipython-input-1-da4c2b4296f8>\"\u001b[1;36m, line \u001b[1;32m2\u001b[0m\n\u001b[1;33m    from matplotlib.pyplot as plt\u001b[0m\n\u001b[1;37m                           ^\u001b[0m\n\u001b[1;31mSyntaxError\u001b[0m\u001b[1;31m:\u001b[0m invalid syntax\n"
     ]
    }
   ],
   "source": [
    "import numpy as np \n",
    "from matplotlib.pyplot as plt"
   ]
  },
  {
   "cell_type": "code",
   "execution_count": 13,
   "metadata": {},
   "outputs": [],
   "source": [
    "from sklearn.linear_model import LinearRegression\n",
    "from sklearn.metrics import mean_squared_error, r2_score"
   ]
  },
  {
   "cell_type": "code",
   "execution_count": 14,
   "metadata": {},
   "outputs": [
    {
     "data": {
      "image/png": "[encoded data removed]",
      "text/plain": [
       "<Figure size 432x288 with 1 Axes>"
      ]
     },
     "metadata": {
      "needs_background": "light"
     },
     "output_type": "display_data"
    }
   ],
   "source": [
    "np.random.seed(0)\n",
    "x = np.random.rand(100, 1)\n",
    "# print(x.shape)\n",
    "# z = 2 + 3*x\n",
    "# print(z.shape)\n",
    "y = 2 + 3 * x + np.random.rand(100, 1)\n",
    "\n",
    "# plot\n",
    "plt.scatter(x,y,s=10)\n",
    "plt.xlabel('x')\n",
    "plt.ylabel('y')\n",
    "plt.show()"
   ]
  },
  {
   "cell_type": "code",
   "execution_count": 27,
   "metadata": {},
   "outputs": [
    {
     "name": "stdout",
     "output_type": "stream",
     "text": [
      "Slope: [[2.93655106]]\n",
      "Intercept: [2.55808002]\n",
      "Root mean squared error:  0.07623324582875007\n",
      "R2 score:  0.9038655568672764\n"
     ]
    },
    {
     "data": {
      "image/png": "[encoded data removed]",
      "text/plain": [
       "<Figure size 432x288 with 1 Axes>"
      ]
     },
     "metadata": {
      "needs_background": "light"
     },
     "output_type": "display_data"
    },
    {
     "name": "stdout",
     "output_type": "stream",
     "text": [
      "[[4.1696989 ]\n",
      " [4.65827012]\n",
      " [4.32812546]\n",
      " [4.15815731]\n",
      " [3.80216397]\n",
      " [4.45478107]\n",
      " [3.84307721]\n",
      " [5.17681698]\n",
      " [5.38792493]\n",
      " [3.68407562]\n",
      " [4.88302102]\n",
      " [4.11120696]\n",
      " [4.22617188]\n",
      " [5.27614181]\n",
      " [2.76668104]\n",
      " [2.81393966]\n",
      " [2.61745238]\n",
      " [5.00311071]\n",
      " [4.84317706]\n",
      " [5.11291512]\n",
      " [5.43184275]\n",
      " [4.90484995]\n",
      " [3.91323773]\n",
      " [4.8501438 ]\n",
      " [2.90539891]\n",
      " [4.43724078]\n",
      " [2.97904427]\n",
      " [5.33214853]\n",
      " [4.09051427]\n",
      " [3.77575598]\n",
      " [3.33496109]\n",
      " [4.83165679]\n",
      " [3.89758877]\n",
      " [4.22731534]\n",
      " [2.61325723]\n",
      " [4.3717982 ]\n",
      " [4.35553037]\n",
      " [4.36973821]\n",
      " [5.32944444]\n",
      " [4.56028015]\n",
      " [3.61379333]\n",
      " [3.84144667]\n",
      " [4.60670965]\n",
      " [2.7349352 ]\n",
      " [4.51607453]\n",
      " [4.52744237]\n",
      " [3.17587916]\n",
      " [2.93667868]\n",
      " [3.48435148]\n",
      " [3.62613527]\n",
      " [4.23249195]\n",
      " [3.84605576]\n",
      " [5.46049027]\n",
      " [2.85773982]\n",
      " [3.17145728]\n",
      " [3.03177366]\n",
      " [4.47596597]\n",
      " [3.30188375]\n",
      " [3.92742542]\n",
      " [3.27584826]\n",
      " [3.02490232]\n",
      " [2.88220226]\n",
      " [4.48542538]\n",
      " [2.96386132]\n",
      " [3.13535417]\n",
      " [3.64086031]\n",
      " [4.96896856]\n",
      " [2.84322288]\n",
      " [5.01874803]\n",
      " [2.84027791]\n",
      " [5.4255031 ]\n",
      " [3.93429821]\n",
      " [5.42638883]\n",
      " [4.33423978]\n",
      " [4.72896527]\n",
      " [2.67315698]\n",
      " [3.38855711]\n",
      " [2.91104336]\n",
      " [3.42771084]\n",
      " [2.90673003]\n",
      " [3.49185387]\n",
      " [3.77458446]\n",
      " [2.74645242]\n",
      " [4.59155976]\n",
      " [4.22193413]\n",
      " [3.33740982]\n",
      " [4.09462465]\n",
      " [2.83394113]\n",
      " [4.24937632]\n",
      " [5.28700576]\n",
      " [3.49357402]\n",
      " [4.51796468]\n",
      " [2.94511118]\n",
      " [4.66161143]\n",
      " [3.40793579]\n",
      " [3.09603081]\n",
      " [4.2804052 ]\n",
      " [2.61712686]\n",
      " [4.99230475]\n",
      " [2.57186853]]\n"
     ]
    }
   ],
   "source": [
    "regression_model = LinearRegression()\n",
    "# Fit the data(train the model)\n",
    "regression_model.fit(x, y)\n",
    "# Predict\n",
    "y_predicted = regression_model.predict(x)\n",
    "\n",
    "# model evaluation\n",
    "rmse = mean_squared_error(y, y_predicted)\n",
    "r2 = r2_score(y, y_predicted)\n",
    "\n",
    "# printing values\n",
    "print('Slope:' ,regression_model.coef_)\n",
    "print('Intercept:', regression_model.intercept_)\n",
    "print('Root mean squared error: ', rmse)\n",
    "print('R2 score: ', r2)\n",
    "\n",
    "# plotting values\n",
    "\n",
    "# data points\n",
    "plt.scatter(x, y, s=10)\n",
    "plt.xlabel('x')\n",
    "plt.ylabel('y')\n",
    "\n",
    "# predicted values\n",
    "plt.plot(x, y_predicted, color='r')\n",
    "plt.show()\n",
    "\n",
    "preval = regression_model.predict(x)\n",
    "print(preval)\n",
    "# plt.scatter(preval)"
   ]
  },
  {
   "cell_type": "code",
   "execution_count": null,
   "metadata": {},
   "outputs": [],
   "source": []
  }
 ],
 "metadata": {
  "kernelspec": {
   "display_name": "Python 3",
   "language": "python",
   "name": "python3"
  },
  "language_info": {
   "codemirror_mode": {
    "name": "ipython",
    "version": 3
   },
   "file_extension": ".py",
   "mimetype": "text/x-python",
   "name": "python",
   "nbconvert_exporter": "python",
   "pygments_lexer": "ipython3",
   "version": "3.8.5"
  }
 },
 "nbformat": 4,
 "nbformat_minor": 4
}
